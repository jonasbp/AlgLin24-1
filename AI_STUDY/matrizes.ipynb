{
 "cells": [
  {
   "cell_type": "code",
   "execution_count": 2,
   "metadata": {},
   "outputs": [],
   "source": [
    "import numpy as np"
   ]
  },
  {
   "cell_type": "markdown",
   "metadata": {},
   "source": [
    "Dadas as matrizes e equações abaixo:\n",
    "\n",
    "$$\n",
    "A = \\begin{bmatrix} 1 & 7\\\\ 3 & 2 \\end{bmatrix} \\\\\n",
    "$$\n",
    "\n",
    "$$\n",
    "B = \\begin{bmatrix} 4 & 9\\\\ 8 & 2 \\end{bmatrix} \\\\\n",
    "$$\n",
    "\n",
    "$$\n",
    "C = AB \\\\\n",
    "$$\n",
    "\n",
    "$$\n",
    "D = BA \n",
    "$$\n",
    "\n",
    "$$\n",
    "ABXDD^{-1} = CDBAD^{-1}\n",
    "$$\n",
    "\n",
    "responda:\n",
    "\n",
    "A. Qual é o valor de $X$?"
   ]
  },
  {
   "cell_type": "code",
   "execution_count": 9,
   "metadata": {},
   "outputs": [
    {
     "data": {
      "text/plain": [
       "array([[31, 46],\n",
       "       [14, 60]])"
      ]
     },
     "execution_count": 9,
     "metadata": {},
     "output_type": "execute_result"
    }
   ],
   "source": [
    "a = np.array([[1,7],[3,2]])\n",
    "b = np.array([[4,9],[8,2]])\n",
    "c = a @ b\n",
    "d = b @ a\n",
    "\n",
    "x = b @ a\n",
    "x"
   ]
  },
  {
   "cell_type": "markdown",
   "metadata": {},
   "source": [
    "V = BW\n",
    "\n",
    "V -> Estou representando de uma forma e vou querer começar a passar de outra forma (Receita)\n",
    "\n",
    "B -> Matriz com vários pontos que quero passar o V (Base de dados)\n",
    "\n",
    "W -> Ponto onde o V vai parar"
   ]
  },
  {
   "cell_type": "markdown",
   "metadata": {},
   "source": [
    "Suponha que você é um gerente de uma pizzaria e tem os seguintes dados sobre seus ingredientes e vendas de pizzas:\n",
    "\n",
    "- Cada pizza de queijo requer 2 xícaras de queijo e 1 xícara de molho de tomate.\n",
    "- Cada pizza de pepperoni requer 1 xícara de queijo, 1 xícara de molho de tomate e 0,5 xícara de pepperoni.\n",
    "- Cada pizza vegetariana requer 1 xícara de queijo, 1 xícara de molho de tomate e 1 xícara de legumes.\n",
    "- Cada pizza completa requer 1 xícara de queijo, 1 xícara de molho de tomate, 0,5 xícara de pepperoni e 0,5 xícara de legumes.\n",
    "\n",
    "*Usando estritamente formulações matriciais*, responda:\n",
    "\n",
    "Quantas pizzas de cada tipo devem ser vendidas para utilizar todo o estoque de ingredientes abaixo?\n",
    "\n",
    "- 71 xícaras de queijo\n",
    "- 52 xícaras de molho de tomate\n",
    "- 10 xícaras de pepperoni\n",
    "- 17 xícaras de legumes\n",
    "\n",
    "Se você vendesse uma pizza de queijo por R$10, uma pizza de pepperoni por R$12, uma pizza vegetariana por R$15 e uma pizza completa por R$20, qual seria o valor total das vendas?\n"
   ]
  },
  {
   "cell_type": "code",
   "execution_count": 4,
   "metadata": {},
   "outputs": [
    {
     "name": "stdout",
     "output_type": "stream",
     "text": [
      "[19. 12. 13.  8.]\n",
      "689.0\n"
     ]
    }
   ],
   "source": [
    "# V = BW\n",
    "# V -> Estou representando de uma forma e vou querer começar a passar de outra forma (Receita)\n",
    "# B -> Matriz com vários pontos que quero passar o V (Base de dados)\n",
    "# W -> Ponto onde o V vai parar\n",
    "\n",
    "pizza_queijo = np.array([2,1,0,0])\n",
    "pizza_pepperoni = np.array([1,1,0.5,0])\n",
    "pizza_vegetariana = np.array([1,1,0,1])\n",
    "pizza_completa = np.array([1,1,0.5,0.5])\n",
    "\n",
    "ingredientes = np.array([71, 52, 10, 17]).T # V\n",
    "\n",
    "pizzas = np.vstack((pizza_queijo, pizza_pepperoni, pizza_vegetariana, pizza_completa)).T #B\n",
    "\n",
    "w = np.linalg.inv(pizzas) @ ingredientes\n",
    "print(w)\n",
    "\n",
    "valores = np.array([10,12,15,20])\n",
    "\n",
    "total = w @ valores\n",
    "print(total)"
   ]
  },
  {
   "cell_type": "markdown",
   "metadata": {},
   "source": [
    "# Exercício 5\n",
    "\n",
    "Escreva o vetor $x$ tal que:\n",
    "\n",
    "$$\n",
    "\\begin{bmatrix} -5 \\\\ 3 \\end{bmatrix} = \\begin{bmatrix} 0 & 1\\\\ 2 & 3 \\end{bmatrix} x\n",
    "$$"
   ]
  },
  {
   "cell_type": "code",
   "execution_count": 5,
   "metadata": {},
   "outputs": [
    {
     "data": {
      "text/plain": [
       "array([[ 9.],\n",
       "       [-5.]])"
      ]
     },
     "execution_count": 5,
     "metadata": {},
     "output_type": "execute_result"
    }
   ],
   "source": [
    "a = np.array([[-5],[3]])\n",
    "\n",
    "b = np.array([[0,1],[2,3]])\n",
    "\n",
    "x = np.linalg.inv(b) @ a\n",
    "x\n"
   ]
  },
  {
   "cell_type": "markdown",
   "metadata": {},
   "source": [
    "# Exercício 3\n",
    "\n",
    "Quatro amigos foram a uma lanchonete, e fizeram os seguintes pedidos:\n",
    "\n",
    "* 1 x-salada e 1 suco de laranja, no total de R$10,00,\n",
    "* 2 x-salada e 2 suco de laranja, no total de R$20,00,\n",
    "* 2 x-salada e 1 suco de laranja, no total de R$13,00,\n",
    "* 4 x-salada e 2 suco de laranja, no total de R$26,00.\n",
    "\n",
    "\n",
    "1. Qual é o preço do x-salada?\n",
    "1. Qual é o preço do suco de laranja?\n",
    "1. Qual é o valor de uma compra de 1 x-salada e 2 sucos de laranja?\n"
   ]
  },
  {
   "cell_type": "code",
   "execution_count": 4,
   "metadata": {},
   "outputs": [
    {
     "name": "stdout",
     "output_type": "stream",
     "text": [
      "[[3.]\n",
      " [7.]]\n",
      "[[17.]]\n"
     ]
    }
   ],
   "source": [
    "# V = BW\n",
    "\n",
    "b = np.array( [[1, 1],[2, 1]]) #B\n",
    "v = np.array( [[10],[13]]) #V\n",
    "\n",
    "w = np.linalg.inv(b) @ v\n",
    "\n",
    "print(w)\n",
    "# 3\n",
    "compra = np.array( [[1, 2]]) @ w\n",
    "print(compra)"
   ]
  },
  {
   "cell_type": "markdown",
   "metadata": {},
   "source": [
    "Algumas carteiras de investimento deram os seguintes retornos:\n",
    "\n",
    "* 100 ações da empresa E1 e 200 ações da E2 deram retorno de R$100,00,\n",
    "* 1000 ações da empresa E1 e 2000 ações da E2 deram retorno de R$1000,00,\n",
    "* 200 ações da empresa E2 e 300 da E3 deram retorno de R$500,00 \n",
    "* 400 ações da empresa E2 e 600 da E3 deram retorno de R$1000,00 \n",
    "* 1000 ações da empresa E1 e 100 da E3 deram retorno de R$1500,00\n",
    "* 2000 ações da empresa E1 e 200 da E3 deram retorno de R$3000,00 \n",
    "\n",
    "*Usando estritamente formulações matriciais*, responda:\n",
    "1. Qual é o retorno por ação de cada empresa?\n",
    "1. Qual é o retorno de uma carteira com 100 ações da empresa E1, 200 da empresa E2 e 300 da E3?\n",
    "\n",
    "________________________________________________________________________________________________________"
   ]
  },
  {
   "cell_type": "code",
   "execution_count": 15,
   "metadata": {},
   "outputs": [
    {
     "data": {
      "text/plain": [
       "632.258064516129"
      ]
     },
     "execution_count": 15,
     "metadata": {},
     "output_type": "execute_result"
    }
   ],
   "source": [
    "acoes1 = np.array([100,200,0])\n",
    "acoes2 = np.array([0,200,300])\n",
    "acoes3 = np.array([1000,0,100])\n",
    "\n",
    "acoes = np.vstack((acoes1, acoes2, acoes3))\n",
    "\n",
    "retorno = np.array([100,500,1500])\n",
    "\n",
    "x = np.linalg.inv(acoes) @ retorno\n",
    "\n",
    "quantidade = np.array([100,200,300])\n",
    "\n",
    "resultado = x @ quantidade\n",
    "resultado\n",
    "\n"
   ]
  },
  {
   "cell_type": "code",
   "execution_count": null,
   "metadata": {},
   "outputs": [],
   "source": []
  }
 ],
 "metadata": {
  "kernelspec": {
   "display_name": ".venv",
   "language": "python",
   "name": "python3"
  },
  "language_info": {
   "codemirror_mode": {
    "name": "ipython",
    "version": 3
   },
   "file_extension": ".py",
   "mimetype": "text/x-python",
   "name": "python",
   "nbconvert_exporter": "python",
   "pygments_lexer": "ipython3",
   "version": "3.12.2"
  }
 },
 "nbformat": 4,
 "nbformat_minor": 2
}
